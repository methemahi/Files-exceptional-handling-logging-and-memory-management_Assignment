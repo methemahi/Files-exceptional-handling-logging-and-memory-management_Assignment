{
  "nbformat": 4,
  "nbformat_minor": 0,
  "metadata": {
    "colab": {
      "provenance": []
    },
    "kernelspec": {
      "name": "python3",
      "display_name": "Python 3"
    },
    "language_info": {
      "name": "python"
    }
  },
  "cells": [
    {
      "cell_type": "markdown",
      "source": [
        "#Files, exceptional handling,logging and memory management"
      ],
      "metadata": {
        "id": "FKryUe3DkraN"
      }
    },
    {
      "cell_type": "markdown",
      "source": [
        "1. What is the difference between interpreted and compiled languages.\n",
        "\n",
        "Answer: Interpreted languages (e.g., Python) translate and execute code line-by-line at runtime, offering portability and fast edit-test cycles but slower execution.\n",
        "Compiled languages (e.g., C) are translated into machine code ahead of time, producing optimized binaries with faster runtime but less immediate portability and longer edit-compile cycles."
      ],
      "metadata": {
        "id": "yM1vbJIslyQq"
      }
    },
    {
      "cell_type": "markdown",
      "source": [
        "2. What is exception handling in Python\n",
        "\n",
        "Answer:Exception handling lets programs catch and manage runtime errors without crashing. Using try, except, else, and finally blocks, Python isolates error-prone code,handles specific or general exceptions, and optionally performs cleanup. This improves robustness,\n",
        "readability, and predictable error recovery."
      ],
      "metadata": {
        "id": "Eg0O4F8smo0U"
      }
    },
    {
      "cell_type": "markdown",
      "source": [
        "3. What is the purpose of the finally block in exception handling\n",
        "\n",
        "Answer: The finally block contains code that always executes after a try/except sequence, regardless of whether an exception occurred. It’s primarily used for cleanup actions — closing files, releasing resources, or restoring state — ensuring essential housekeeping runs even if errors are raised."
      ],
      "metadata": {
        "id": "gOFRu5cLnCF2"
      }
    },
    {
      "cell_type": "markdown",
      "source": [
        "4. What is logging in Python\n",
        "\n",
        "Answer: Logging records runtime events, messages, and errors to aid debugging, auditing, and monitoring. Python’s logging module supports levels, formatting, handlers (console, files, rotation), and configurable destinations. Logging keeps runtime diagnostics separate\n",
        "from user output and helps maintain long-term traceability for production systems."
      ],
      "metadata": {
        "id": "dc8JqqPCnPAr"
      }
    },
    {
      "cell_type": "markdown",
      "source": [
        "5. What is the significance of the __del__ method in Python\n",
        "\n",
        "Answer:__del__ is a class destructor called when an object is about to be garbage-collected. It can release external resources or perform final cleanup, but its invocation timing is unpredictable. Reliance on __del__ is discouraged for critical cleanup; context\n",
        "managers and explicit close methods are preferred."
      ],
      "metadata": {
        "id": "qFic_aYhoOMH"
      }
    },
    {
      "cell_type": "markdown",
      "source": [
        "6. What is the difference between import and from ... import in Python\n",
        "\n",
        "Answer:import module loads the module and requires qualified names (e.g., module.func). from module import name brings specified attributes into the current namespace, allowing direct use (func). from ... import * imports everything (not recommended). Use import for clarity and to avoid namespace collisions."
      ],
      "metadata": {
        "id": "O5vLDqFDoZ5Q"
      }
    },
    {
      "cell_type": "markdown",
      "source": [
        "7. How can you handle multiple exceptions in Python\n",
        "\n",
        "Answer:How to handle multiple exceptions in Python: Use multiple except blocks for specific exception types or a single except (TypeError, ValueError) as e to catch several types. Order matters: more specific exceptions first, general ones later. Optionally use a final broad except Exception: for fallback and always include cleanup in finally."
      ],
      "metadata": {
        "id": "MKz2qO3DcRqm"
      }
    },
    {
      "cell_type": "markdown",
      "source": [
        "8. What is the purpose of the with statement when handling files in Python\n",
        "\n",
        "Answer:with open(...) as f: creates a context manager that automatically opens and closes the file, even if exceptions occur. It simplifies resource management by ensuring deterministic cleanup, reducing boilerplate try/finally blocks and preventing resource leaks from forgotten close() calls."
      ],
      "metadata": {
        "id": "QgXQGKascg0g"
      }
    },
    {
      "cell_type": "markdown",
      "source": [
        "9. What is the difference between multithreading and multiprocessing\n",
        "\n",
        "Answer:Multithreading runs multiple threads within one process sharing memory, good for I/O-bound tasks but limited by Python’s GIL for CPU-bound work. Multiprocessing spawns separate processes with independent memory, bypassing the GIL and better for CPU-bound parallelism, but with higher interprocess communication overhead."
      ],
      "metadata": {
        "id": "0hYUD-GgcuX-"
      }
    },
    {
      "cell_type": "markdown",
      "source": [
        "10. What are the advantages of using logging in a program\n",
        "\n",
        "Answer:Logging provides persistent diagnostic records, aids debugging and monitoring, separates user output from debug data, supports level-based filtering, and enables centralized aggregation (files, remote servers). It helps track runtime behavior, detect regressions, and analyze production issues without stopping or altering program flow."
      ],
      "metadata": {
        "id": "8WZIMn6rdztu"
      }
    },
    {
      "cell_type": "markdown",
      "source": [
        "11. What is memory management in Python\n",
        "\n",
        "Answer:Memory management encompasses allocation, deallocation, and garbage collection. Python automatically allocates objects on the heap and reclaims unreachable objects using reference counting and cyclic garbage collection. Developers should still manage large resources (files, sockets) explicitly and be mindful of object lifetimes and memory growth."
      ],
      "metadata": {
        "id": "gym3PNwMeOAK"
      }
    },
    {
      "cell_type": "markdown",
      "source": [
        "12. What are the basic steps involved in exception handling in Python\n",
        "\n",
        "Basic steps in exception handling in Python:\n",
        "1) Wrap risky code in try.\n",
        "2) Use except to catch specific exceptions.\n",
        "3) Optionally use else for code that runs if no exception occurred.\n",
        "4) Use finally for guaranteed cleanup.\n",
        "5) Log or re-raise exceptions as appropriate for diagnostics and control flow."
      ],
      "metadata": {
        "id": "Xgc_pRTAeejS"
      }
    },
    {
      "cell_type": "markdown",
      "source": [
        "13. Why is memory management important in Python\n",
        "\n",
        "Answer:Proper memory management prevents leaks, reduces crashes, and maintains application performance. Long-running programs must avoid unbounded memory growth. Efficient memory usage lowers costs, improves responsiveness, and prevents garbage-collection overhead spikes that can degrade throughput or cause out-of-memory failures."
      ],
      "metadata": {
        "id": "XT6rCAHVe8uY"
      }
    },
    {
      "cell_type": "markdown",
      "source": [
        "14. What is the role of try and except in exception handling\n",
        "\n",
        "Role of try and except in exception handling: try designates a block where exceptions may occur. except catches specified exception types raised in the try block and provides recovery logic. Together they allow graceful error handling, alternative flows, and prevention of program termination due to unhandled errors"
      ],
      "metadata": {
        "id": "q0zWqTmPfsvq"
      }
    },
    {
      "cell_type": "markdown",
      "source": [
        "15. How does Python's garbage collection system work\n",
        "\n",
        "Answer:objects are deallocated when their reference count hits zero. To handle reference cycles, a cyclic garbage\n",
        "collector periodically identifies unreachable groups of objects and frees them. Developers can tune or manually interact with the gc module for diagnostics and advanced control."
      ],
      "metadata": {
        "id": "Hr8HT6XQg0ig"
      }
    },
    {
      "cell_type": "markdown",
      "source": [
        "16. What is the purpose of the else block in exception handling\n",
        "\n",
        "Answer:The else block runs only if the try block completes without raising an exception. It’s useful for code that should execute when no error occurred (e.g., post-processing), keeping success-path logic separate from both exception handlers and cleanup in finally"
      ],
      "metadata": {
        "id": "OBT7KgOChVjf"
      }
    },
    {
      "cell_type": "markdown",
      "source": [
        "17. What are the common logging levels in Python\n",
        "\n",
        "Common logging levels in Python: Standard logging levels: DEBUG (detailed dev info), INFO (general runtime events), WARNING (recoverable issues), ERROR (serious problems), and CRITICAL (severe failures). Choose levels to control verbosity and route messages appropriately in production systems."
      ],
      "metadata": {
        "id": "1pVXOQFChd9D"
      }
    },
    {
      "cell_type": "markdown",
      "source": [
        "18. What is the difference between os.fork() and multiprocessing in Python\n",
        "\n",
        "Answer:os.fork() duplicates the current process (UNIX only), yielding parent and child processes sharing initial memory copy-on-write; it’s low-level and error-prone. multiprocessing is cross-platform, higher-level, provides process pools, safe IPC primitives, and easier task management for parallel execution"
      ],
      "metadata": {
        "id": "DPQ-NK5chzNZ"
      }
    },
    {
      "cell_type": "markdown",
      "source": [
        "19. What is the importance of closing a file in Python\n",
        "\n",
        "Answer:Closing a file flushes buffers, releases system file descriptors and resources, and ensures data integrity. Open files consume OS handles; not closing them can cause leaks, data loss, or reach file descriptor limits. Use context managers to guarantee\n",
        "timely closure."
      ],
      "metadata": {
        "id": "rTJ9vpGniFRZ"
      }
    },
    {
      "cell_type": "markdown",
      "source": [
        "20. What is the difference between file.read() and file.readline() in Python\n",
        "\n",
        "Answer: file.read() reads the entire remaining content (or a given number of bytes) and returns it as one string. file.readline() reads a single line up to the newline and returns it. For large files, readline() or iteration is memory-efficient compared to read()."
      ],
      "metadata": {
        "id": "x_Of5tQ4iX0q"
      }
    },
    {
      "cell_type": "markdown",
      "source": [
        "21. What is the logging module in Python used for\n",
        "\n",
        "Answer: The logging module standardizes event reporting, allowing configurable loggers, handlers, formatters, and levels. It supports output to consoles, files, rotating files, or remote handlers, enabling consistent diagnostics, runtime monitoring, and configurable\n",
        "verbosity across development and production environments.\n"
      ],
      "metadata": {
        "id": "CsAgKHQ-iljy"
      }
    },
    {
      "cell_type": "markdown",
      "source": [
        "22. What is the os module in Python used for in file handling\n",
        "\n",
        "Answer:  os provides OS-level operations: file and directory manipulation (os.path, os.remove, os.rename, os.makedirs), permission handling, checking existence, and interacting with file descriptors. It complements high-level file I/O by enabling filesystem operations and platform-aware behavior."
      ],
      "metadata": {
        "id": "t_cT6lJXixgw"
      }
    },
    {
      "cell_type": "markdown",
      "source": [
        "23. What are the challenges associated with memory management in Python\n",
        "\n",
        "Answer: Common challenges include reference cycles that delay deallocation, accidental global or cached references causing leaks, large data structures\n",
        "consuming memory, unpredictable GC pauses, and managing native extensions’ memory. Solving these needs profiling, careful scoping, explicit resource release, and sometimes manual gc tuning."
      ],
      "metadata": {
        "id": "M66ZDhyDjOas"
      }
    },
    {
      "cell_type": "markdown",
      "source": [
        "24. How do you raise an exception manually in Python\n",
        "\n",
        "Answer: Use the raise statement, e.g., raise ValueError(\"bad input\"). You can raise built-in or custom exception classes. To re-raise the current exception inside an except block, use raise with no arguments. Manual raising signals error conditions to callers"
      ],
      "metadata": {
        "id": "UCk8J3wsjYUl"
      }
    },
    {
      "cell_type": "markdown",
      "source": [
        "25. Why is it important to use multithreading in certain applications\n",
        "\n",
        "Answer:: Multithreading improves concurrency for I/O-bound tasks (networking, disk I/O, user interfaces) by overlapping waits and reducing latency.\n",
        "Threads share memory, simplifying communication. It’s efficient for many concurrent lightweight tasks despite GIL limitations for CPU-bound work; ideal when blocking I/O dominates execution time."
      ],
      "metadata": {
        "id": "qjB__Bfxjlh8"
      }
    },
    {
      "cell_type": "markdown",
      "source": [
        "#Practical Questions"
      ],
      "metadata": {
        "id": "qdxgxo0cloy1"
      }
    },
    {
      "cell_type": "code",
      "source": [
        "#1) Open a file for writing and write a string\n",
        "from pathlib import Path\n",
        "\n",
        "p = Path(\"output.txt\")\n",
        "p.write_text(\"Hello, this is a string written to file.\\n\")"
      ],
      "metadata": {
        "colab": {
          "base_uri": "https://localhost:8080/"
        },
        "id": "qPaNIlZRuStm",
        "outputId": "c7ee5656-0201-42bf-ff37-560437490c73"
      },
      "execution_count": 1,
      "outputs": [
        {
          "output_type": "execute_result",
          "data": {
            "text/plain": [
              "41"
            ]
          },
          "metadata": {},
          "execution_count": 1
        }
      ]
    },
    {
      "cell_type": "code",
      "source": [
        "# Read contents of a file and print each line\n",
        "with open(\"output.txt\") as f:\n",
        "    for line in f:\n",
        "        print(line)"
      ],
      "metadata": {
        "colab": {
          "base_uri": "https://localhost:8080/"
        },
        "id": "BolMMEdZu4rx",
        "outputId": "f87df0f7-92c9-496a-8e92-bd849277b6d3"
      },
      "execution_count": 2,
      "outputs": [
        {
          "output_type": "stream",
          "name": "stdout",
          "text": [
            "Hello, this is a string written to file.\n",
            "\n"
          ]
        }
      ]
    },
    {
      "cell_type": "code",
      "source": [
        "#3) Handle case where file doesn't exist while opening\n",
        "import os\n",
        "\n",
        "filename = \"missing.txt\"\n",
        "try:\n",
        "    with open(filename, \"r\", encoding=\"utf-8\") as f:\n",
        "        print(f.read())\n",
        "except FileNotFoundError:\n",
        "    print(f\"{filename} not found.\")"
      ],
      "metadata": {
        "colab": {
          "base_uri": "https://localhost:8080/"
        },
        "id": "4OP4xsk9vA8v",
        "outputId": "6da2f1d1-153d-483d-f6bc-b9cc6bbe5590"
      },
      "execution_count": 3,
      "outputs": [
        {
          "output_type": "stream",
          "name": "stdout",
          "text": [
            "missing.txt not found.\n"
          ]
        }
      ]
    },
    {
      "cell_type": "code",
      "source": [
        "#4) Read from one file and write its content to another\n",
        "src = \"output.txt\"\n",
        "dst = \"copy_output.txt\"\n",
        "with open(src, \"r\", encoding=\"utf-8\") as fr, open(dst, \"w\", encoding=\"utf-8\") as fw:\n",
        "    for line in fr:\n",
        "        fw.write(line)"
      ],
      "metadata": {
        "id": "y2L0rROAv1li"
      },
      "execution_count": 4,
      "outputs": []
    },
    {
      "cell_type": "code",
      "source": [
        "#5) Catch and handle division by zero\n",
        "try:\n",
        "    a, b = 10, 0\n",
        "    result = a / b\n",
        "except ZeroDivisionError:\n",
        "    print(\"Cannot divide by zero.\")\n",
        "else:\n",
        "    print(result)"
      ],
      "metadata": {
        "colab": {
          "base_uri": "https://localhost:8080/"
        },
        "id": "HwI2MFEjwCAd",
        "outputId": "3f463eaf-5679-460b-cc39-ddf79906d7cc"
      },
      "execution_count": 5,
      "outputs": [
        {
          "output_type": "stream",
          "name": "stdout",
          "text": [
            "Cannot divide by zero.\n"
          ]
        }
      ]
    },
    {
      "cell_type": "code",
      "source": [
        "#6) Log an error when division by zero occurs\n",
        "import logging\n",
        "\n",
        "try:\n",
        "    a, b = 10, 0\n",
        "    result = a / b\n",
        "except ZeroDivisionError:\n",
        "    logging.error(\"Cannot divide by zero.\")\n",
        "else:\n",
        "    print(result)"
      ],
      "metadata": {
        "colab": {
          "base_uri": "https://localhost:8080/"
        },
        "id": "_qaeNltmwQ8B",
        "outputId": "3e729cfc-e851-44d8-8d90-681f0b1b2449"
      },
      "execution_count": 6,
      "outputs": [
        {
          "output_type": "stream",
          "name": "stderr",
          "text": [
            "ERROR:root:Cannot divide by zero.\n"
          ]
        }
      ]
    },
    {
      "cell_type": "code",
      "source": [
        "#7) Log INFO, WARNING, ERROR using logging module\n",
        "import logging\n",
        "logging.basicConfig(filename=\"levels.log\", level=logging.DEBUG,\n",
        "                    format=\"%(asctime)s %(levelname)s: %(message)s\")\n",
        "logging.info(\"This is an info\")\n",
        "logging.warning(\"This is a warning\")\n",
        "logging.error(\"This is an error\")"
      ],
      "metadata": {
        "colab": {
          "base_uri": "https://localhost:8080/"
        },
        "id": "eYSvy89AwaEv",
        "outputId": "02e4fd8c-5a15-41c8-c01d-a54ff1bf746e"
      },
      "execution_count": 7,
      "outputs": [
        {
          "output_type": "stream",
          "name": "stderr",
          "text": [
            "WARNING:root:This is a warning\n",
            "ERROR:root:This is an error\n"
          ]
        }
      ]
    },
    {
      "cell_type": "code",
      "source": [
        "#8) Handle file opening error using exception handling\n",
        "try:\n",
        "    f = open(\"somefile.txt\", \"r\")\n",
        "except Exception as e:\n",
        "    print(\"Error opening file:\", e)\n",
        "else:\n",
        "    print(\"Opened successfully\")\n",
        "    f.close()"
      ],
      "metadata": {
        "colab": {
          "base_uri": "https://localhost:8080/"
        },
        "id": "Prz8OAtuwkHL",
        "outputId": "adf34359-1120-4996-e971-57853928da98"
      },
      "execution_count": 8,
      "outputs": [
        {
          "output_type": "stream",
          "name": "stdout",
          "text": [
            "Error opening file: [Errno 2] No such file or directory: 'somefile.txt'\n"
          ]
        }
      ]
    },
    {
      "cell_type": "code",
      "source": [
        "#9) Read file line by line and store into a list\n",
        "with open(\"output.txt\", \"r\", encoding=\"utf-8\") as f:\n",
        "    lines = [line.rstrip(\"\\n\") for line in f]\n",
        "print(lines)"
      ],
      "metadata": {
        "colab": {
          "base_uri": "https://localhost:8080/"
        },
        "id": "aNWOFsAywyRi",
        "outputId": "8ea8f0d2-e257-458c-f6c2-794b6e014669"
      },
      "execution_count": 9,
      "outputs": [
        {
          "output_type": "stream",
          "name": "stdout",
          "text": [
            "['Hello, this is a string written to file.']\n"
          ]
        }
      ]
    },
    {
      "cell_type": "code",
      "source": [
        "#10) Append data to an existing file\n",
        "with open(\"output.txt\", \"a\", encoding=\"utf-8\") as f:\n",
        "    f.write(\"This line is appended.\\n\")"
      ],
      "metadata": {
        "id": "U2Ni6X8Xw-zj"
      },
      "execution_count": 10,
      "outputs": []
    },
    {
      "cell_type": "code",
      "source": [
        "#11) Handle missing dictionary key with try-except\n",
        "d = {\"a\": 1}\n",
        "try:\n",
        "    print(d[\"b\"])\n",
        "except KeyError:\n",
        "    print(\"Key 'b' not found, using default 0\")\n",
        "    print(0)"
      ],
      "metadata": {
        "colab": {
          "base_uri": "https://localhost:8080/"
        },
        "id": "kwCh3vqJxIuD",
        "outputId": "e4b421c0-86c8-48bd-9b64-c064d244f82f"
      },
      "execution_count": 11,
      "outputs": [
        {
          "output_type": "stream",
          "name": "stdout",
          "text": [
            "Key 'b' not found, using default 0\n",
            "0\n"
          ]
        }
      ]
    },
    {
      "cell_type": "code",
      "source": [
        "#12) Multiple except blocks for different exceptions\n",
        "try:\n",
        "    lst = [1,2]\n",
        "    print(lst[5])        # IndexError\n",
        "    print(1/0)           # ZeroDivisionError\n",
        "except IndexError:\n",
        "    print(\"IndexError handled\")\n",
        "except ZeroDivisionError:\n",
        "    print(\"ZeroDivisionError handled\")"
      ],
      "metadata": {
        "id": "F7ixvWxixXcy"
      },
      "execution_count": null,
      "outputs": []
    },
    {
      "cell_type": "code",
      "source": [
        "#13) Check if file exists before reading\n",
        "import os\n",
        "if os.path.exists(\"output.txt\"):\n",
        "    with open(\"output.txt\") as f:\n",
        "        print(f.read())\n",
        "else:\n",
        "    print(\"output.txt does not exist\")"
      ],
      "metadata": {
        "colab": {
          "base_uri": "https://localhost:8080/"
        },
        "id": "j1IPwWasxpDT",
        "outputId": "2ae63ffd-3e5c-41ca-dac5-56e98fc9f520"
      },
      "execution_count": 12,
      "outputs": [
        {
          "output_type": "stream",
          "name": "stdout",
          "text": [
            "Hello, this is a string written to file.\n",
            "This line is appended.\n",
            "\n"
          ]
        }
      ]
    },
    {
      "cell_type": "code",
      "source": [
        "#14) Use logging to log both informational and error messages\n",
        "import logging\n",
        "logging.basicConfig(filename=\"both.log\", level=logging.INFO,\n",
        "                    format=\"%(asctime)s %(levelname)s: %(message)s\")\n",
        "logging.info(\"Program started\")\n",
        "try:\n",
        "    1/0\n",
        "except ZeroDivisionError:\n",
        "    logging.error(\"Division by zero occurred\", exc_info=True)"
      ],
      "metadata": {
        "id": "zWrRk7onyFxE"
      },
      "execution_count": null,
      "outputs": []
    },
    {
      "cell_type": "code",
      "source": [
        "#15) Print file content and handle empty file\n",
        "try:\n",
        "    with open(\"output.txt\") as f:\n",
        "        print(f.read())\n",
        "except FileNotFoundError:\n",
        "    print(\"File not found\")\n",
        "except IOError:\n",
        "    print(\"Error reading file\")"
      ],
      "metadata": {
        "colab": {
          "base_uri": "https://localhost:8080/"
        },
        "id": "-tOsxKnwzCPZ",
        "outputId": "a41a9294-b7c4-44b0-ea49-ddd6c2c5591e"
      },
      "execution_count": 13,
      "outputs": [
        {
          "output_type": "stream",
          "name": "stdout",
          "text": [
            "Hello, this is a string written to file.\n",
            "This line is appended.\n",
            "\n"
          ]
        }
      ]
    },
    {
      "cell_type": "code",
      "source": [
        "#16) Memory profiling (demo)\n",
        "import tracemalloc\n",
        "\n",
        "tracemalloc.start()\n",
        "# sample workload\n",
        "a = [i for i in range(100000)]\n",
        "snapshot = tracemalloc.take_snapshot()\n",
        "top_stats = snapshot.statistics('lineno')\n",
        "print(top_stats[0:5])\n",
        "tracemalloc.stop()"
      ],
      "metadata": {
        "colab": {
          "base_uri": "https://localhost:8080/"
        },
        "id": "Kf3E5vV3zL4M",
        "outputId": "6524d2c6-7970-4ce6-931d-d61c94c3a134"
      },
      "execution_count": 14,
      "outputs": [
        {
          "output_type": "stream",
          "name": "stdout",
          "text": [
            "[<Statistic traceback=<Traceback (<Frame filename='/tmp/ipython-input-1595609488.py' lineno=6>,)> size=3992704 count=99744>, <Statistic traceback=<Traceback (<Frame filename='/usr/local/lib/python3.11/dist-packages/IPython/core/interactiveshell.py' lineno=3473>,)> size=320 count=1>, <Statistic traceback=<Traceback (<Frame filename='/usr/local/lib/python3.11/dist-packages/IPython/core/interactiveshell.py' lineno=3358>,)> size=295 count=2>, <Statistic traceback=<Traceback (<Frame filename='/usr/local/lib/python3.11/dist-packages/IPython/core/interactiveshell.py' lineno=3553>,)> size=152 count=1>, <Statistic traceback=<Traceback (<Frame filename='/usr/local/lib/python3.11/dist-packages/IPython/core/interactiveshell.py' lineno=3537>,)> size=64 count=1>]\n"
          ]
        }
      ]
    },
    {
      "cell_type": "code",
      "source": [
        "#17) Write a list of numbers to a file, one number per line\n",
        "nums = list(range(1, 11))\n",
        "with open(\"numbers.txt\", \"w\", encoding=\"utf-8\") as f:\n",
        "    for n in nums:\n",
        "        f.write(f\"{n}\\n\")"
      ],
      "metadata": {
        "id": "mEyZV5mNzdXk"
      },
      "execution_count": 15,
      "outputs": []
    },
    {
      "cell_type": "code",
      "source": [
        "#18) Basic logging setup with rotation after 1MB\n",
        "import logging\n",
        "from logging.handlers import RotatingFileHandler\n",
        "\n",
        "logger = logging.getLogger(\"myapp\")\n",
        "logger.setLevel(logging.INFO)\n",
        "\n",
        "handler = RotatingFileHandler(\"rotating.log\", maxBytes=1_000_000, backupCount=3)\n",
        "formatter = logging.Formatter(\"%(asctime)s %(levelname)s: %(message)s\")\n",
        "handler.setFormatter(formatter)\n",
        "logger.addHandler(handler)\n",
        "\n",
        "logger.info(\"Starting application\")"
      ],
      "metadata": {
        "colab": {
          "base_uri": "https://localhost:8080/"
        },
        "id": "0OsnS9wHzm9R",
        "outputId": "2ab2c50d-26d9-4996-e9ef-68673b5297a7"
      },
      "execution_count": 16,
      "outputs": [
        {
          "output_type": "stream",
          "name": "stderr",
          "text": [
            "INFO:myapp:Starting application\n"
          ]
        }
      ]
    },
    {
      "cell_type": "code",
      "source": [
        "#19) Handle both IndexError and KeyError\n",
        "try:\n",
        "    lst = [1,2]\n",
        "    print(lst[5])        # IndexError\n",
        "    d = {\"a\": 1}\n",
        "    print(d[\"b\"])        # KeyError\n",
        "except IndexError:\n",
        "    print(\"IndexError handled\")"
      ],
      "metadata": {
        "colab": {
          "base_uri": "https://localhost:8080/"
        },
        "id": "NKz1BB5uzyC5",
        "outputId": "2d982ea6-5506-45f8-87ed-121880650930"
      },
      "execution_count": 17,
      "outputs": [
        {
          "output_type": "stream",
          "name": "stdout",
          "text": [
            "IndexError handled\n"
          ]
        }
      ]
    },
    {
      "cell_type": "code",
      "source": [
        "#20) Open and read using a context manager (with)\n",
        "# context_manager_read.py\n",
        "with open(\"output.txt\", \"r\", encoding=\"utf-8\") as f:\n",
        "    content = f.read()\n",
        "print(content)"
      ],
      "metadata": {
        "colab": {
          "base_uri": "https://localhost:8080/"
        },
        "id": "CeV44eEVz9M5",
        "outputId": "ed9d6fa5-1e32-4e03-905f-0fb4150230b3"
      },
      "execution_count": 18,
      "outputs": [
        {
          "output_type": "stream",
          "name": "stdout",
          "text": [
            "Hello, this is a string written to file.\n",
            "This line is appended.\n",
            "\n"
          ]
        }
      ]
    },
    {
      "cell_type": "code",
      "source": [
        "#21) Count occurrences of a specific word in a file\n",
        "from collections import Counter\n",
        "with open(\"output.txt\", \"r\", encoding=\"utf-8\") as f:\n",
        "    word_counts = Counter(f.read().split())\n",
        "print(word_counts)"
      ],
      "metadata": {
        "colab": {
          "base_uri": "https://localhost:8080/"
        },
        "id": "J5pB93aA0azz",
        "outputId": "d8ae78b1-627a-485d-9921-4ebe525748a6"
      },
      "execution_count": 19,
      "outputs": [
        {
          "output_type": "stream",
          "name": "stdout",
          "text": [
            "Counter({'is': 2, 'Hello,': 1, 'this': 1, 'a': 1, 'string': 1, 'written': 1, 'to': 1, 'file.': 1, 'This': 1, 'line': 1, 'appended.': 1})\n"
          ]
        }
      ]
    },
    {
      "cell_type": "code",
      "source": [
        "#22) Check if a file is empty before reading\n",
        "import os\n",
        "if os.stat(\"output.txt\").st_size == 0:\n",
        "    print(\"File is empty\")\n",
        "else:\n",
        "    with open(\"output.txt\", \"r\", encoding=\"utf-8\") as f:\n",
        "        print(f.read())"
      ],
      "metadata": {
        "colab": {
          "base_uri": "https://localhost:8080/"
        },
        "id": "3KmkXHcm0liy",
        "outputId": "e5694e96-b963-4012-88c8-2084293f9e01"
      },
      "execution_count": 20,
      "outputs": [
        {
          "output_type": "stream",
          "name": "stdout",
          "text": [
            "Hello, this is a string written to file.\n",
            "This line is appended.\n",
            "\n"
          ]
        }
      ]
    },
    {
      "cell_type": "code",
      "source": [
        "#23) Write to a log when an error occurs during file handling\n",
        "import logging\n",
        "try:\n",
        "    with open(\"missing.txt\", \"r\", encoding=\"utf-8\") as f:\n",
        "        print(f.read())\n",
        "except FileNotFoundError:\n",
        "    logging.error(\"File not found\", exc_info=True)"
      ],
      "metadata": {
        "colab": {
          "base_uri": "https://localhost:8080/"
        },
        "id": "8W9U9NRK0raq",
        "outputId": "3b142733-89a0-4327-f45d-82822004d94d"
      },
      "execution_count": 21,
      "outputs": [
        {
          "output_type": "stream",
          "name": "stderr",
          "text": [
            "ERROR:root:File not found\n",
            "Traceback (most recent call last):\n",
            "  File \"/tmp/ipython-input-3727098205.py\", line 4, in <cell line: 0>\n",
            "    with open(\"missing.txt\", \"r\", encoding=\"utf-8\") as f:\n",
            "         ^^^^^^^^^^^^^^^^^^^^^^^^^^^^^^^^^^^^^^^^^^\n",
            "FileNotFoundError: [Errno 2] No such file or directory: 'missing.txt'\n"
          ]
        }
      ]
    },
    {
      "cell_type": "code",
      "source": [],
      "metadata": {
        "id": "lt1TD01X02fr"
      },
      "execution_count": null,
      "outputs": []
    },
    {
      "cell_type": "markdown",
      "source": [],
      "metadata": {
        "id": "jQr7ED4Nzc0X"
      }
    }
  ]
}